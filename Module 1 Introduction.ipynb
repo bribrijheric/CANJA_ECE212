{
 "cells": [
  {
   "cell_type": "markdown",
   "metadata": {},
   "source": [
    "# Introduction"
   ]
  },
  {
   "cell_type": "markdown",
   "metadata": {},
   "source": [
    "The purpose of this course pack is to educate you in Python to understand and build computer programs. We will outline for you at the beginning of each chapter the learning objectives and goals that should be reached after you have progressed through the chapter."
   ]
  },
  {
   "cell_type": "markdown",
   "metadata": {},
   "source": [
    "## The Python Programming Language"
   ]
  },
  {
   "cell_type": "markdown",
   "metadata": {},
   "source": [
    "The language of programming you will be studying is Python. An example of a high-level language is Python; **C++, PHP, and Java are other high-level languages you might have heard of.**\n",
    "\n",
    "There are also low-level languages, often referred to as computer languages or assembly languages, as you would infer from the term high-level language. Loosely speaking, only programs written in low-level languages can be run by computers. Thus, before they can run, programs written in a high-level language have to be processed. It takes some time for this additional processing, which is a slight drawback of high-level languages. High-level languages, however, have immense advantagebs."
   ]
  },
  {
   "attachments": {
    "image.png": {
     "image/png": "[encoded data removed]"
    }
   },
   "cell_type": "markdown",
   "metadata": {},
   "source": [
    "![image.png](attachment:image.png)"
   ]
  }
 ],
 "metadata": {
  "kernelspec": {
   "display_name": "Python 3",
   "language": "python",
   "name": "python3"
  },
  "language_info": {
   "codemirror_mode": {
    "name": "ipython",
    "version": 3
   },
   "file_extension": ".py",
   "mimetype": "text/x-python",
   "name": "python",
   "nbconvert_exporter": "python",
   "pygments_lexer": "ipython3",
   "version": "3.8.5"
  }
 },
 "nbformat": 4,
 "nbformat_minor": 4
}
